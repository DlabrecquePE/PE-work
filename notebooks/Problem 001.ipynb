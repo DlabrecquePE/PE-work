{
 "metadata": {
  "language_info": {
   "codemirror_mode": {
    "name": "ipython",
    "version": 3
   },
   "file_extension": ".py",
   "mimetype": "text/x-python",
   "name": "python",
   "nbconvert_exporter": "python",
   "pygments_lexer": "ipython3",
   "version": "3.9.0-final"
  },
  "orig_nbformat": 2,
  "kernelspec": {
   "name": "python3",
   "display_name": "Python 3",
   "language": "python"
  }
 },
 "nbformat": 4,
 "nbformat_minor": 2,
 "cells": [
  {
   "source": [
    "# Multiples of 3 and 5\n",
    "## Problem 1\n",
    "---\n",
    "<p>If we list all the natural numbers below 10 that are multiples of 3 or 5, we get 3, 5, 6 and 9. The sum of these multiples is 23.</p>\n",
    "<p>Find the sum of all the multiples of 3 or 5 below 1000.</p>  \n",
    "\n",
    "---\n",
    "https://projecteuler.net/problem=1"
   ],
   "cell_type": "markdown",
   "metadata": {}
  },
  {
   "source": [
    "This can be solved in one line with Python using a list comprehension."
   ],
   "cell_type": "markdown",
   "metadata": {}
  },
  {
   "cell_type": "code",
   "execution_count": 16,
   "metadata": {},
   "outputs": [
    {
     "output_type": "execute_result",
     "data": {
      "text/plain": [
       "233168"
      ]
     },
     "metadata": {},
     "execution_count": 16
    }
   ],
   "source": [
    "sum([x for x in range(1, 1000) if (not x % 3) or (not x % 5)])"
   ]
  },
  {
   "source": [
    "When using FOR loops one would have to be careful not to double count numbers that are nultiples of both 3 and 5 (numbers such as 15, 30, etc...). This could be handled by filling separate lists for multiples of 3 and 5 respectively, casting them as sets, and performing a union on them before summing.\n",
    "\n",
    "We will see that loops are completely unneccesary. They are, in fact, extreemly inefficient. There is a closed form solution available that can be found via arithmetic progression.\n",
    "\n",
    "https://en.wikipedia.org/wiki/Arithmetic_progression\n",
    "\n",
    "We can adapt the formula for the sum of an arithmetic series to this problem to get a solution in constant time O(1). The formula is as follows:\n",
    "\n",
    "$$\\frac {n(a_{1}+a_{n})}{2}$$\n",
    "\n",
    "\n",
    "\n"
   ],
   "cell_type": "markdown",
   "metadata": {}
  },
  {
   "cell_type": "code",
   "execution_count": null,
   "metadata": {},
   "outputs": [],
   "source": []
  }
 ]
}